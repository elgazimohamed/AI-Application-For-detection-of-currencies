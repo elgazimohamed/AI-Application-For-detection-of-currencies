{
  "cells": [
    {
      "cell_type": "code",
      "execution_count": null,
      "metadata": {
        "colab": {
          "base_uri": "https://localhost:8080/"
        },
        "id": "Uc9e4fA3Tepf",
        "outputId": "77db0de0-c5d3-4a4d-feda-9c699635f5e3"
      },
      "outputs": [
        {
          "name": "stdout",
          "output_type": "stream",
          "text": [
            "Drive already mounted at /content/drive; to attempt to forcibly remount, call drive.mount(\"/content/drive\", force_remount=True).\n"
          ]
        }
      ],
      "source": [
        "from google.colab import drive\n",
        "drive.mount('/content/drive')"
      ]
    },
    {
      "cell_type": "code",
      "execution_count": null,
      "metadata": {
        "id": "EzMyuMHxavR-"
      },
      "outputs": [],
      "source": [
        "import tensorflow as tf\n",
        "from tensorflow.keras.models import Sequential\n",
        "from tensorflow.keras import backend as K\n",
        "import matplotlib.pyplot as plt\n",
        "import cv2\n",
        "import numpy as np\n",
        "from google.colab.patches import cv2_imshow\n",
        "import pathlib\n",
        "from keras.layers import  Dense, Conv2D, MaxPool2D,Flatten, Activation\n",
        "from tensorflow.keras.models import load_model\n",
        "from tensorflow.keras.preprocessing.image import ImageDataGenerator\n",
        "from PIL import Image"
      ]
    },
    {
      "cell_type": "code",
      "execution_count": null,
      "metadata": {
        "id": "iI6oDbikc3va"
      },
      "outputs": [],
      "source": [
        "img_width, img_height = 150,150 # width & height of input image\n",
        "input_depth = 3\n",
        "train_data_dir      = '/content/drive/MyDrive/PROJET_Mohamed_ELGAZI/Deep_Learning/training' #data training path\n",
        "validation_data_dir = '/content/drive/MyDrive/PROJET_Mohamed_ELGAZI/Deep_Learning/validation' #data testing path\n",
        "epochs = 20 #number of training epoch\n",
        "batch_size = 64 #training batch size"
      ]
    },
    {
      "cell_type": "code",
      "execution_count": null,
      "metadata": {
        "id": "sxKdLzhneAPw"
      },
      "outputs": [],
      "source": [
        "# define image generator for Keras,\n",
        "# here, we map pixel intensity to 0-1\n",
        "train_datagen = ImageDataGenerator(rescale=1/255)\n",
        "validation_datagen  = ImageDataGenerator(rescale=1/255)"
      ]
    },
    {
      "cell_type": "code",
      "execution_count": null,
      "metadata": {
        "colab": {
          "base_uri": "https://localhost:8080/"
        },
        "id": "sl1jk_IHeByt",
        "outputId": "2cc47349-daa8-4cc6-cbf1-4cee4e150956"
      },
      "outputs": [
        {
          "name": "stdout",
          "output_type": "stream",
          "text": [
            "Found 6094 images belonging to 15 classes.\n",
            "Found 1883 images belonging to 15 classes.\n"
          ]
        }
      ],
      "source": [
        "# read image batch by batch\n",
        "train_generator = train_datagen.flow_from_directory(\n",
        "    train_data_dir,\n",
        "    color_mode='rgb',\n",
        "    target_size=(img_width,img_height),#input image size\n",
        "    batch_size=batch_size,#batch size\n",
        "    class_mode='categorical')\n",
        "validation_generator = validation_datagen.flow_from_directory(\n",
        "    validation_data_dir,\n",
        "    color_mode='rgb',\n",
        "    target_size=(img_width,img_height),\n",
        "    batch_size=batch_size,\n",
        "    class_mode='categorical')"
      ]
    },
    {
      "cell_type": "code",
      "execution_count": null,
      "metadata": {
        "colab": {
          "base_uri": "https://localhost:8080/"
        },
        "id": "qYRVyQlUeFLW",
        "outputId": "b3f40fce-340b-4a33-dc11-4bdbc4aa952e"
      },
      "outputs": [
        {
          "name": "stdout",
          "output_type": "stream",
          "text": [
            "Model: \"sequential\"\n",
            "_________________________________________________________________\n",
            " Layer (type)                Output Shape              Param #   \n",
            "=================================================================\n",
            " input_tensor (Conv2D)       (None, 150, 150, 20)      1520      \n",
            "                                                                 \n",
            " activation (Activation)     (None, 150, 150, 20)      0         \n",
            "                                                                 \n",
            " max_pooling2d (MaxPooling2D  (None, 75, 75, 20)       0         \n",
            " )                                                               \n",
            "                                                                 \n",
            " conv2d (Conv2D)             (None, 75, 75, 20)        10020     \n",
            "                                                                 \n",
            " activation_1 (Activation)   (None, 75, 75, 20)        0         \n",
            "                                                                 \n",
            " max_pooling2d_1 (MaxPooling  (None, 37, 37, 20)       0         \n",
            " 2D)                                                             \n",
            "                                                                 \n",
            " conv2d_1 (Conv2D)           (None, 37, 37, 20)        10020     \n",
            "                                                                 \n",
            " activation_2 (Activation)   (None, 37, 37, 20)        0         \n",
            "                                                                 \n",
            " flatten (Flatten)           (None, 27380)             0         \n",
            "                                                                 \n",
            " dense (Dense)               (None, 10)                273810    \n",
            "                                                                 \n",
            " output_tensor (Dense)       (None, 15)                165       \n",
            "                                                                 \n",
            "=================================================================\n",
            "Total params: 295,535\n",
            "Trainable params: 295,535\n",
            "Non-trainable params: 0\n",
            "_________________________________________________________________\n"
          ]
        }
      ],
      "source": [
        "# define number of filters and nodes in the fully connected layer\n",
        "NUMB_FILTER_L1 = 20\n",
        "NUMB_FILTER_L2 = 20\n",
        "NUMB_FILTER_L3 = 20\n",
        "NUMB_NODE_FC_LAYER = 10\n",
        "\n",
        "#define input image order shape\n",
        "if K.image_data_format() == 'channels_first':\n",
        "    input_shape_val = (input_depth, img_width, img_height)\n",
        "else:\n",
        "    input_shape_val = (img_width, img_height, input_depth)\n",
        "\n",
        "#define the network\n",
        "model = Sequential()\n",
        "\n",
        "# Layer 1\n",
        "model.add(Conv2D(NUMB_FILTER_L1, (5, 5), \n",
        "                 input_shape=input_shape_val, \n",
        "                 padding='same', name='input_tensor'))\n",
        "model.add(Activation('relu'))\n",
        "model.add(MaxPool2D((2, 2)))\n",
        "\n",
        "# Layer 2\n",
        "model.add(Conv2D(NUMB_FILTER_L2, (5, 5), padding='same'))\n",
        "model.add(Activation('relu'))\n",
        "model.add(MaxPool2D((2, 2)))\n",
        "\n",
        "# Layer 3\n",
        "model.add(Conv2D(NUMB_FILTER_L3, (5, 5), padding='same'))\n",
        "model.add(Activation('relu'))\n",
        "\n",
        "# flattening the model for fully connected layer\n",
        "model.add(Flatten())\n",
        "\n",
        "# fully connected layer\n",
        "model.add(Dense(NUMB_NODE_FC_LAYER, activation='relu'))\n",
        "\n",
        "# output layer\n",
        "model.add(Dense(train_generator.num_classes, \n",
        "                activation='softmax', name='output_tensor'))\n",
        "\n",
        "# Compilile the network\n",
        "model.compile(loss='categorical_crossentropy',\n",
        "              optimizer='Adam', metrics=['accuracy'])\n",
        "# Show the model summary\n",
        "model.summary()"
      ]
    },
    {
      "cell_type": "code",
      "execution_count": null,
      "metadata": {
        "id": "o1IH69aEwa5k"
      },
      "outputs": [],
      "source": [
        "# Train and test the network\n",
        "model.fit_generator(\n",
        "    train_generator,#our training generator\n",
        "    #number of iteration per epoch = number of data / batch size\n",
        "    steps_per_epoch=np.floor(train_generator.n/batch_size),\n",
        "    epochs=epochs,#number of epoch\n",
        "    validation_data=validation_generator,#our validation generator\n",
        "    #number of iteration per epoch = number of data / batch size\n",
        "    validation_steps=np.floor(validation_generator.n / batch_size))"
      ]
    },
    {
      "cell_type": "code",
      "execution_count": null,
      "metadata": {
        "id": "PGyRsXnwHJyD"
      },
      "outputs": [],
      "source": [
        "print(\"Training is done!\")\n",
        "model.save('/content/drive/MyDrive/PROJET_Mohamed_ELGAZI/Deep_Learning/model/model.h5')\n",
        "print(\"Model is successfully stored!\")"
      ]
    },
    {
      "cell_type": "code",
      "execution_count": null,
      "metadata": {
        "colab": {
          "base_uri": "https://localhost:8080/"
        },
        "id": "X_zoP3fu0vq1",
        "outputId": "00ca4569-7eb6-4148-dad1-f07728de900d"
      },
      "outputs": [
        {
          "name": "stdout",
          "output_type": "stream",
          "text": [
            "Model: \"sequential\"\n",
            "_________________________________________________________________\n",
            " Layer (type)                Output Shape              Param #   \n",
            "=================================================================\n",
            " input_tensor (Conv2D)       (None, 150, 150, 20)      1520      \n",
            "                                                                 \n",
            " activation (Activation)     (None, 150, 150, 20)      0         \n",
            "                                                                 \n",
            " max_pooling2d (MaxPooling2D  (None, 75, 75, 20)       0         \n",
            " )                                                               \n",
            "                                                                 \n",
            " conv2d (Conv2D)             (None, 75, 75, 20)        10020     \n",
            "                                                                 \n",
            " activation_1 (Activation)   (None, 75, 75, 20)        0         \n",
            "                                                                 \n",
            " max_pooling2d_1 (MaxPooling  (None, 37, 37, 20)       0         \n",
            " 2D)                                                             \n",
            "                                                                 \n",
            " conv2d_1 (Conv2D)           (None, 37, 37, 20)        10020     \n",
            "                                                                 \n",
            " activation_2 (Activation)   (None, 37, 37, 20)        0         \n",
            "                                                                 \n",
            " flatten (Flatten)           (None, 27380)             0         \n",
            "                                                                 \n",
            " dense (Dense)               (None, 10)                273810    \n",
            "                                                                 \n",
            " output_tensor (Dense)       (None, 15)                165       \n",
            "                                                                 \n",
            "=================================================================\n",
            "Total params: 295,535\n",
            "Trainable params: 295,535\n",
            "Non-trainable params: 0\n",
            "_________________________________________________________________\n"
          ]
        }
      ],
      "source": [
        "model.summary()"
      ]
    }
  ],
  "metadata": {
    "accelerator": "GPU",
    "colab": {
      "provenance": []
    },
    "kernelspec": {
      "display_name": "Python 3",
      "name": "python3"
    },
    "language_info": {
      "name": "python"
    }
  },
  "nbformat": 4,
  "nbformat_minor": 0
}